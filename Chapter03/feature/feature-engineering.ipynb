{
 "cells": [
  {
   "attachments": {},
   "cell_type": "markdown",
   "metadata": {},
   "source": [
    "# Imports"
   ]
  },
  {
   "cell_type": "code",
   "execution_count": 2,
   "metadata": {},
   "outputs": [],
   "source": [
    "from sklearn.model_selection import train_test_split\n",
    "from sklearn.preprocessing import StandardScaler\n",
    "from sklearn.linear_model import RidgeClassifier\n",
    "from sklearn import metrics\n",
    "from sklearn.datasets import load_wine\n",
    "from sklearn.pipeline import make_pipeline"
   ]
  },
  {
   "attachments": {},
   "cell_type": "markdown",
   "metadata": {},
   "source": [
    "# Get Data"
   ]
  },
  {
   "cell_type": "code",
   "execution_count": 3,
   "metadata": {},
   "outputs": [],
   "source": [
    "X, y = load_wine(return_X_y = True)"
   ]
  },
  {
   "attachments": {},
   "cell_type": "markdown",
   "metadata": {},
   "source": [
    "# Split Data"
   ]
  },
  {
   "cell_type": "code",
   "execution_count": 4,
   "metadata": {},
   "outputs": [],
   "source": [
    "X_train, X_test, y_train, y_test = train_test_split(X, y,\n",
    "                                                    test_size = 0.3,\n",
    "                                                    random_state = 42)"
   ]
  },
  {
   "attachments": {},
   "cell_type": "markdown",
   "metadata": {},
   "source": [
    "# Fit Data"
   ]
  },
  {
   "cell_type": "code",
   "execution_count": 6,
   "metadata": {},
   "outputs": [],
   "source": [
    "X, y = load_wine(return_X_y=True)\n",
    "\n",
    "# Make a train/test split using 30% test size\n",
    "X_train, X_test, y_train, y_test = train_test_split(X, y,\n",
    "                                                    test_size=0.30,\n",
    "                                                    random_state=42)\n",
    "\n",
    "# Fit ridge classifier to the data\n",
    "no_scale_clf = make_pipeline(RidgeClassifier(tol=1e-2, solver=\"sag\"))\n",
    "no_scale_clf.fit(X_train, y_train)\n",
    "y_pred_no_scale = no_scale_clf.predict(X_test)\n",
    "\n",
    "# Fit a ridge classifier after performing standard scaling\n",
    "std_scale_clf = make_pipeline(StandardScaler(), RidgeClassifier(tol=1e-2, solver=\"sag\"))\n",
    "std_scale_clf.fit(X_train, y_train)\n",
    "y_pred_std_scale = std_scale_clf.predict(X_test)"
   ]
  },
  {
   "cell_type": "code",
   "execution_count": 7,
   "metadata": {},
   "outputs": [
    {
     "name": "stdout",
     "output_type": "stream",
     "text": [
      "\n",
      "Accuracy [no scaling]\n",
      "75.93%\n",
      "\n",
      "\n",
      "Classification Report [no scaling]\n",
      "              precision    recall  f1-score   support\n",
      "\n",
      "           0       0.90      1.00      0.95        19\n",
      "           1       0.66      1.00      0.79        21\n",
      "           2       1.00      0.07      0.13        14\n",
      "\n",
      "    accuracy                           0.76        54\n",
      "   macro avg       0.85      0.69      0.63        54\n",
      "weighted avg       0.83      0.76      0.68        54\n",
      "\n",
      "\n",
      "Accuracy [scaling]\n",
      "98.15%\n",
      "\n",
      "\n",
      "Classification Report [scaling]\n",
      "              precision    recall  f1-score   support\n",
      "\n",
      "           0       0.95      1.00      0.97        19\n",
      "           1       1.00      0.95      0.98        21\n",
      "           2       1.00      1.00      1.00        14\n",
      "\n",
      "    accuracy                           0.98        54\n",
      "   macro avg       0.98      0.98      0.98        54\n",
      "weighted avg       0.98      0.98      0.98        54\n",
      "\n"
     ]
    }
   ],
   "source": [
    "# Prediction accuracies with and without scaling\n",
    "print('\\nAccuracy [no scaling]')\n",
    "print('{:.2%}\\n'.format(metrics.accuracy_score(y_test, y_pred_no_scale)))\n",
    "\n",
    "print('\\nClassification Report [no scaling]')\n",
    "print(metrics.classification_report(y_test, y_pred_no_scale))\n",
    "\n",
    "\n",
    "print('\\nAccuracy [scaling]')\n",
    "print('{:.2%}\\n'.format(metrics.accuracy_score(y_test, y_pred_std_scale)))\n",
    "\n",
    "print('\\nClassification Report [scaling]')\n",
    "print(metrics.classification_report(y_test, y_pred_std_scale))"
   ]
  }
 ],
 "metadata": {
  "kernelspec": {
   "display_name": ".venv",
   "language": "python",
   "name": "python3"
  },
  "language_info": {
   "codemirror_mode": {
    "name": "ipython",
    "version": 3
   },
   "file_extension": ".py",
   "mimetype": "text/x-python",
   "name": "python",
   "nbconvert_exporter": "python",
   "pygments_lexer": "ipython3",
   "version": "3.10.10"
  },
  "orig_nbformat": 4,
  "vscode": {
   "interpreter": {
    "hash": "aa50fce573bf96505baa1879b1df9fc760df40ab7c3be66edff8570ca6fd1295"
   }
  }
 },
 "nbformat": 4,
 "nbformat_minor": 2
}
