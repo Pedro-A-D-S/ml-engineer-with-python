{
 "cells": [
  {
   "attachments": {},
   "cell_type": "markdown",
   "metadata": {},
   "source": [
    "# Imports"
   ]
  },
  {
   "cell_type": "code",
   "execution_count": 1,
   "metadata": {},
   "outputs": [
    {
     "name": "stderr",
     "output_type": "stream",
     "text": [
      "c:\\Users\\pedro\\OneDrive\\Documentos\\ml-engineer-with-python\\.venv\\lib\\site-packages\\tqdm\\auto.py:22: TqdmWarning: IProgress not found. Please update jupyter and ipywidgets. See https://ipywidgets.readthedocs.io/en/stable/user_install.html\n",
      "  from .autonotebook import tqdm as notebook_tqdm\n"
     ]
    }
   ],
   "source": [
    "import optuna\n",
    "from optuna.samplers import TPESampler\n",
    "\n",
    "from sklearn.linear_model import LogisticRegression\n",
    "from sklearn.model_selection import cross_val_score\n",
    "from sklearn import datasets\n",
    "\n",
    "from functools import partial"
   ]
  },
  {
   "attachments": {},
   "cell_type": "markdown",
   "metadata": {},
   "source": [
    "# Functions"
   ]
  },
  {
   "cell_type": "code",
   "execution_count": 2,
   "metadata": {},
   "outputs": [],
   "source": [
    "def objective(trial, n_folds, X, y):\n",
    "    \"\"\"Objective function for tuning logistic regression hyperparameters\"\"\"\n",
    "    params = {\n",
    "        'warm_start': trial.suggest_categorical('warm_start', [True, False]),\n",
    "        'fit_intercept': trial.suggest_categorical('fit_intercept', [True, False]),\n",
    "        'tol': trial.suggest_uniform('tol', 0.00001, 0.0001),\n",
    "        'C': trial.suggest_uniform('C', 0.05, 2.5),\n",
    "        'solver': trial.suggest_categorical('solver', ['newton-cg', 'lbfgs', 'liblinear']),\n",
    "        'max_iter': trial.suggest_categorical('max_iter', range(10, 500))\n",
    "    }\n",
    "    # Perform n_fold cross validation with hyperparameters\n",
    "    clf = LogisticRegression(**params, random_state=42)\n",
    "    scores = cross_val_score(clf, X, y, cv=n_folds, scoring='f1_macro')\n",
    "    \n",
    "    print(scores)\n",
    "    # Extract the best score\n",
    "    max_score = max(scores)\n",
    "\n",
    "    # Loss must be minimized\n",
    "    loss = 1 - max_score\n",
    "    print(loss)\n",
    "    # Dictionary with information for evaluation\n",
    "    return loss"
   ]
  },
  {
   "attachments": {},
   "cell_type": "markdown",
   "metadata": {},
   "source": [
    "# Get Data"
   ]
  },
  {
   "cell_type": "code",
   "execution_count": 3,
   "metadata": {},
   "outputs": [],
   "source": [
    "n_folds = 5\n",
    "X, y = datasets.make_classification(n_samples=100000, n_features=20,\n",
    "                                    n_informative=2, n_redundant=2)\n",
    "\n",
    "train_samples = 100  # Samples used for training the models\n",
    "\n",
    "X_train = X[:train_samples]\n",
    "X_test = X[train_samples:]\n",
    "y_train = y[:train_samples]\n",
    "y_test = y[train_samples:]"
   ]
  },
  {
   "attachments": {},
   "cell_type": "markdown",
   "metadata": {},
   "source": [
    "# Tuning"
   ]
  },
  {
   "cell_type": "code",
   "execution_count": 4,
   "metadata": {},
   "outputs": [
    {
     "name": "stderr",
     "output_type": "stream",
     "text": [
      "\u001b[32m[I 2023-03-09 18:49:15,069]\u001b[0m A new study created in memory with name: no-name-6a12155a-dad9-4205-9f5a-4de71b9b0a50\u001b[0m\n",
      "C:\\Users\\pedro\\AppData\\Local\\Temp\\ipykernel_3716\\1523801057.py:6: FutureWarning: suggest_uniform has been deprecated in v3.0.0. This feature will be removed in v6.0.0. See https://github.com/optuna/optuna/releases/tag/v3.0.0. Use :func:`~optuna.trial.Trial.suggest_float` instead.\n",
      "  'tol': trial.suggest_uniform('tol', 0.00001, 0.0001),\n",
      "C:\\Users\\pedro\\AppData\\Local\\Temp\\ipykernel_3716\\1523801057.py:7: FutureWarning: suggest_uniform has been deprecated in v3.0.0. This feature will be removed in v6.0.0. See https://github.com/optuna/optuna/releases/tag/v3.0.0. Use :func:`~optuna.trial.Trial.suggest_float` instead.\n",
      "  'C': trial.suggest_uniform('C', 0.05, 2.5),\n",
      "\u001b[32m[I 2023-03-09 18:49:15,113]\u001b[0m Trial 0 finished with value: 0.0 and parameters: {'warm_start': True, 'fit_intercept': True, 'tol': 2.360984548279897e-05, 'C': 2.458204404462609, 'solver': 'lbfgs', 'max_iter': 55}. Best is trial 0 with value: 0.0.\u001b[0m\n",
      "C:\\Users\\pedro\\AppData\\Local\\Temp\\ipykernel_3716\\1523801057.py:6: FutureWarning: suggest_uniform has been deprecated in v3.0.0. This feature will be removed in v6.0.0. See https://github.com/optuna/optuna/releases/tag/v3.0.0. Use :func:`~optuna.trial.Trial.suggest_float` instead.\n",
      "  'tol': trial.suggest_uniform('tol', 0.00001, 0.0001),\n",
      "C:\\Users\\pedro\\AppData\\Local\\Temp\\ipykernel_3716\\1523801057.py:7: FutureWarning: suggest_uniform has been deprecated in v3.0.0. This feature will be removed in v6.0.0. See https://github.com/optuna/optuna/releases/tag/v3.0.0. Use :func:`~optuna.trial.Trial.suggest_float` instead.\n",
      "  'C': trial.suggest_uniform('C', 0.05, 2.5),\n",
      "\u001b[32m[I 2023-03-09 18:49:15,148]\u001b[0m Trial 1 finished with value: 0.0 and parameters: {'warm_start': True, 'fit_intercept': True, 'tol': 6.676237508562107e-05, 'C': 2.1982334308557343, 'solver': 'newton-cg', 'max_iter': 162}. Best is trial 0 with value: 0.0.\u001b[0m\n",
      "C:\\Users\\pedro\\AppData\\Local\\Temp\\ipykernel_3716\\1523801057.py:6: FutureWarning: suggest_uniform has been deprecated in v3.0.0. This feature will be removed in v6.0.0. See https://github.com/optuna/optuna/releases/tag/v3.0.0. Use :func:`~optuna.trial.Trial.suggest_float` instead.\n",
      "  'tol': trial.suggest_uniform('tol', 0.00001, 0.0001),\n",
      "C:\\Users\\pedro\\AppData\\Local\\Temp\\ipykernel_3716\\1523801057.py:7: FutureWarning: suggest_uniform has been deprecated in v3.0.0. This feature will be removed in v6.0.0. See https://github.com/optuna/optuna/releases/tag/v3.0.0. Use :func:`~optuna.trial.Trial.suggest_float` instead.\n",
      "  'C': trial.suggest_uniform('C', 0.05, 2.5),\n",
      "\u001b[32m[I 2023-03-09 18:49:15,167]\u001b[0m Trial 2 finished with value: 0.05012531328320802 and parameters: {'warm_start': False, 'fit_intercept': False, 'tol': 9.93837510975885e-05, 'C': 1.6169531966916966, 'solver': 'liblinear', 'max_iter': 17}. Best is trial 0 with value: 0.0.\u001b[0m\n",
      "C:\\Users\\pedro\\AppData\\Local\\Temp\\ipykernel_3716\\1523801057.py:6: FutureWarning: suggest_uniform has been deprecated in v3.0.0. This feature will be removed in v6.0.0. See https://github.com/optuna/optuna/releases/tag/v3.0.0. Use :func:`~optuna.trial.Trial.suggest_float` instead.\n",
      "  'tol': trial.suggest_uniform('tol', 0.00001, 0.0001),\n",
      "C:\\Users\\pedro\\AppData\\Local\\Temp\\ipykernel_3716\\1523801057.py:7: FutureWarning: suggest_uniform has been deprecated in v3.0.0. This feature will be removed in v6.0.0. See https://github.com/optuna/optuna/releases/tag/v3.0.0. Use :func:`~optuna.trial.Trial.suggest_float` instead.\n",
      "  'C': trial.suggest_uniform('C', 0.05, 2.5),\n",
      "\u001b[32m[I 2023-03-09 18:49:15,201]\u001b[0m Trial 3 finished with value: 0.05012531328320802 and parameters: {'warm_start': False, 'fit_intercept': False, 'tol': 7.837930655374581e-05, 'C': 1.578010125070095, 'solver': 'newton-cg', 'max_iter': 207}. Best is trial 0 with value: 0.0.\u001b[0m\n",
      "C:\\Users\\pedro\\AppData\\Local\\Temp\\ipykernel_3716\\1523801057.py:6: FutureWarning: suggest_uniform has been deprecated in v3.0.0. This feature will be removed in v6.0.0. See https://github.com/optuna/optuna/releases/tag/v3.0.0. Use :func:`~optuna.trial.Trial.suggest_float` instead.\n",
      "  'tol': trial.suggest_uniform('tol', 0.00001, 0.0001),\n",
      "C:\\Users\\pedro\\AppData\\Local\\Temp\\ipykernel_3716\\1523801057.py:7: FutureWarning: suggest_uniform has been deprecated in v3.0.0. This feature will be removed in v6.0.0. See https://github.com/optuna/optuna/releases/tag/v3.0.0. Use :func:`~optuna.trial.Trial.suggest_float` instead.\n",
      "  'C': trial.suggest_uniform('C', 0.05, 2.5),\n",
      "\u001b[32m[I 2023-03-09 18:49:15,232]\u001b[0m Trial 4 finished with value: 0.05012531328320802 and parameters: {'warm_start': False, 'fit_intercept': False, 'tol': 2.884642905287797e-05, 'C': 0.22444998867051347, 'solver': 'newton-cg', 'max_iter': 451}. Best is trial 0 with value: 0.0.\u001b[0m\n",
      "C:\\Users\\pedro\\AppData\\Local\\Temp\\ipykernel_3716\\1523801057.py:6: FutureWarning: suggest_uniform has been deprecated in v3.0.0. This feature will be removed in v6.0.0. See https://github.com/optuna/optuna/releases/tag/v3.0.0. Use :func:`~optuna.trial.Trial.suggest_float` instead.\n",
      "  'tol': trial.suggest_uniform('tol', 0.00001, 0.0001),\n",
      "C:\\Users\\pedro\\AppData\\Local\\Temp\\ipykernel_3716\\1523801057.py:7: FutureWarning: suggest_uniform has been deprecated in v3.0.0. This feature will be removed in v6.0.0. See https://github.com/optuna/optuna/releases/tag/v3.0.0. Use :func:`~optuna.trial.Trial.suggest_float` instead.\n",
      "  'C': trial.suggest_uniform('C', 0.05, 2.5),\n",
      "\u001b[32m[I 2023-03-09 18:49:15,263]\u001b[0m Trial 5 finished with value: 0.05012531328320802 and parameters: {'warm_start': False, 'fit_intercept': False, 'tol': 9.040328515355797e-05, 'C': 0.9437272679511471, 'solver': 'lbfgs', 'max_iter': 304}. Best is trial 0 with value: 0.0.\u001b[0m\n",
      "C:\\Users\\pedro\\AppData\\Local\\Temp\\ipykernel_3716\\1523801057.py:6: FutureWarning: suggest_uniform has been deprecated in v3.0.0. This feature will be removed in v6.0.0. See https://github.com/optuna/optuna/releases/tag/v3.0.0. Use :func:`~optuna.trial.Trial.suggest_float` instead.\n",
      "  'tol': trial.suggest_uniform('tol', 0.00001, 0.0001),\n",
      "C:\\Users\\pedro\\AppData\\Local\\Temp\\ipykernel_3716\\1523801057.py:7: FutureWarning: suggest_uniform has been deprecated in v3.0.0. This feature will be removed in v6.0.0. See https://github.com/optuna/optuna/releases/tag/v3.0.0. Use :func:`~optuna.trial.Trial.suggest_float` instead.\n",
      "  'C': trial.suggest_uniform('C', 0.05, 2.5),\n",
      "\u001b[32m[I 2023-03-09 18:49:15,295]\u001b[0m Trial 6 finished with value: 0.05012531328320802 and parameters: {'warm_start': True, 'fit_intercept': True, 'tol': 5.849097528788203e-05, 'C': 0.5517231149398998, 'solver': 'lbfgs', 'max_iter': 256}. Best is trial 0 with value: 0.0.\u001b[0m\n"
     ]
    },
    {
     "name": "stdout",
     "output_type": "stream",
     "text": [
      "[0.8        1.         0.79166667 0.8        0.84962406]\n",
      "0.0\n",
      "[0.8        1.         0.79166667 0.8        0.84962406]\n",
      "0.0\n",
      "[0.84962406 0.94987469 0.7979798  0.74424552 0.8989899 ]\n",
      "0.05012531328320802\n",
      "[0.84962406 0.94987469 0.7979798  0.74424552 0.8989899 ]\n",
      "0.05012531328320802\n",
      "[0.9        0.94987469 0.7979798  0.8989899  0.8989899 ]\n",
      "0.05012531328320802\n",
      "[0.9        0.94987469 0.7979798  0.79166667 0.8989899 ]\n",
      "0.05012531328320802\n",
      "[0.9        0.94987469 0.79166667 0.84962406 0.8       ]\n",
      "0.05012531328320802\n"
     ]
    },
    {
     "name": "stderr",
     "output_type": "stream",
     "text": [
      "C:\\Users\\pedro\\AppData\\Local\\Temp\\ipykernel_3716\\1523801057.py:6: FutureWarning: suggest_uniform has been deprecated in v3.0.0. This feature will be removed in v6.0.0. See https://github.com/optuna/optuna/releases/tag/v3.0.0. Use :func:`~optuna.trial.Trial.suggest_float` instead.\n",
      "  'tol': trial.suggest_uniform('tol', 0.00001, 0.0001),\n",
      "C:\\Users\\pedro\\AppData\\Local\\Temp\\ipykernel_3716\\1523801057.py:7: FutureWarning: suggest_uniform has been deprecated in v3.0.0. This feature will be removed in v6.0.0. See https://github.com/optuna/optuna/releases/tag/v3.0.0. Use :func:`~optuna.trial.Trial.suggest_float` instead.\n",
      "  'C': trial.suggest_uniform('C', 0.05, 2.5),\n",
      "\u001b[32m[I 2023-03-09 18:49:15,329]\u001b[0m Trial 7 finished with value: 0.0 and parameters: {'warm_start': False, 'fit_intercept': True, 'tol': 1.2004360653295908e-05, 'C': 1.4359356268289973, 'solver': 'lbfgs', 'max_iter': 249}. Best is trial 0 with value: 0.0.\u001b[0m\n",
      "C:\\Users\\pedro\\AppData\\Local\\Temp\\ipykernel_3716\\1523801057.py:6: FutureWarning: suggest_uniform has been deprecated in v3.0.0. This feature will be removed in v6.0.0. See https://github.com/optuna/optuna/releases/tag/v3.0.0. Use :func:`~optuna.trial.Trial.suggest_float` instead.\n",
      "  'tol': trial.suggest_uniform('tol', 0.00001, 0.0001),\n",
      "C:\\Users\\pedro\\AppData\\Local\\Temp\\ipykernel_3716\\1523801057.py:7: FutureWarning: suggest_uniform has been deprecated in v3.0.0. This feature will be removed in v6.0.0. See https://github.com/optuna/optuna/releases/tag/v3.0.0. Use :func:`~optuna.trial.Trial.suggest_float` instead.\n",
      "  'C': trial.suggest_uniform('C', 0.05, 2.5),\n",
      "\u001b[32m[I 2023-03-09 18:49:15,372]\u001b[0m Trial 8 finished with value: 0.0 and parameters: {'warm_start': False, 'fit_intercept': True, 'tol': 2.3225397849463716e-05, 'C': 0.6737071412856319, 'solver': 'newton-cg', 'max_iter': 384}. Best is trial 0 with value: 0.0.\u001b[0m\n",
      "C:\\Users\\pedro\\AppData\\Local\\Temp\\ipykernel_3716\\1523801057.py:6: FutureWarning: suggest_uniform has been deprecated in v3.0.0. This feature will be removed in v6.0.0. See https://github.com/optuna/optuna/releases/tag/v3.0.0. Use :func:`~optuna.trial.Trial.suggest_float` instead.\n",
      "  'tol': trial.suggest_uniform('tol', 0.00001, 0.0001),\n",
      "C:\\Users\\pedro\\AppData\\Local\\Temp\\ipykernel_3716\\1523801057.py:7: FutureWarning: suggest_uniform has been deprecated in v3.0.0. This feature will be removed in v6.0.0. See https://github.com/optuna/optuna/releases/tag/v3.0.0. Use :func:`~optuna.trial.Trial.suggest_float` instead.\n",
      "  'C': trial.suggest_uniform('C', 0.05, 2.5),\n",
      "\u001b[32m[I 2023-03-09 18:49:15,423]\u001b[0m Trial 9 finished with value: 0.0 and parameters: {'warm_start': False, 'fit_intercept': True, 'tol': 5.9736390093253325e-05, 'C': 2.472940308549014, 'solver': 'lbfgs', 'max_iter': 47}. Best is trial 0 with value: 0.0.\u001b[0m\n",
      "C:\\Users\\pedro\\AppData\\Local\\Temp\\ipykernel_3716\\1523801057.py:6: FutureWarning: suggest_uniform has been deprecated in v3.0.0. This feature will be removed in v6.0.0. See https://github.com/optuna/optuna/releases/tag/v3.0.0. Use :func:`~optuna.trial.Trial.suggest_float` instead.\n",
      "  'tol': trial.suggest_uniform('tol', 0.00001, 0.0001),\n",
      "C:\\Users\\pedro\\AppData\\Local\\Temp\\ipykernel_3716\\1523801057.py:7: FutureWarning: suggest_uniform has been deprecated in v3.0.0. This feature will be removed in v6.0.0. See https://github.com/optuna/optuna/releases/tag/v3.0.0. Use :func:`~optuna.trial.Trial.suggest_float` instead.\n",
      "  'C': trial.suggest_uniform('C', 0.05, 2.5),\n",
      "\u001b[32m[I 2023-03-09 18:49:15,460]\u001b[0m Trial 10 finished with value: 0.0 and parameters: {'warm_start': True, 'fit_intercept': True, 'tol': 3.996903737956369e-05, 'C': 2.0282858032033437, 'solver': 'liblinear', 'max_iter': 14}. Best is trial 0 with value: 0.0.\u001b[0m\n",
      "C:\\Users\\pedro\\AppData\\Local\\Temp\\ipykernel_3716\\1523801057.py:6: FutureWarning: suggest_uniform has been deprecated in v3.0.0. This feature will be removed in v6.0.0. See https://github.com/optuna/optuna/releases/tag/v3.0.0. Use :func:`~optuna.trial.Trial.suggest_float` instead.\n",
      "  'tol': trial.suggest_uniform('tol', 0.00001, 0.0001),\n",
      "C:\\Users\\pedro\\AppData\\Local\\Temp\\ipykernel_3716\\1523801057.py:7: FutureWarning: suggest_uniform has been deprecated in v3.0.0. This feature will be removed in v6.0.0. See https://github.com/optuna/optuna/releases/tag/v3.0.0. Use :func:`~optuna.trial.Trial.suggest_float` instead.\n",
      "  'C': trial.suggest_uniform('C', 0.05, 2.5),\n",
      "\u001b[32m[I 2023-03-09 18:49:15,507]\u001b[0m Trial 11 finished with value: 0.0 and parameters: {'warm_start': True, 'fit_intercept': True, 'tol': 4.723348301065639e-05, 'C': 2.4987971105791975, 'solver': 'newton-cg', 'max_iter': 137}. Best is trial 0 with value: 0.0.\u001b[0m\n"
     ]
    },
    {
     "name": "stdout",
     "output_type": "stream",
     "text": [
      "[0.9        1.         0.79166667 0.8        0.84962406]\n",
      "0.0\n",
      "[0.9        1.         0.79166667 0.84962406 0.8       ]\n",
      "0.0\n",
      "[0.8        1.         0.79166667 0.8        0.84962406]\n",
      "0.0\n",
      "[0.8        1.         0.79166667 0.8        0.84962406]\n",
      "0.0\n",
      "[0.8        1.         0.79166667 0.8        0.84962406]\n",
      "0.0\n"
     ]
    },
    {
     "name": "stderr",
     "output_type": "stream",
     "text": [
      "C:\\Users\\pedro\\AppData\\Local\\Temp\\ipykernel_3716\\1523801057.py:6: FutureWarning: suggest_uniform has been deprecated in v3.0.0. This feature will be removed in v6.0.0. See https://github.com/optuna/optuna/releases/tag/v3.0.0. Use :func:`~optuna.trial.Trial.suggest_float` instead.\n",
      "  'tol': trial.suggest_uniform('tol', 0.00001, 0.0001),\n",
      "C:\\Users\\pedro\\AppData\\Local\\Temp\\ipykernel_3716\\1523801057.py:7: FutureWarning: suggest_uniform has been deprecated in v3.0.0. This feature will be removed in v6.0.0. See https://github.com/optuna/optuna/releases/tag/v3.0.0. Use :func:`~optuna.trial.Trial.suggest_float` instead.\n",
      "  'C': trial.suggest_uniform('C', 0.05, 2.5),\n",
      "\u001b[32m[I 2023-03-09 18:49:15,560]\u001b[0m Trial 12 finished with value: 0.0 and parameters: {'warm_start': True, 'fit_intercept': True, 'tol': 7.101750971772029e-05, 'C': 1.9991317247654243, 'solver': 'newton-cg', 'max_iter': 55}. Best is trial 0 with value: 0.0.\u001b[0m\n",
      "C:\\Users\\pedro\\AppData\\Local\\Temp\\ipykernel_3716\\1523801057.py:6: FutureWarning: suggest_uniform has been deprecated in v3.0.0. This feature will be removed in v6.0.0. See https://github.com/optuna/optuna/releases/tag/v3.0.0. Use :func:`~optuna.trial.Trial.suggest_float` instead.\n",
      "  'tol': trial.suggest_uniform('tol', 0.00001, 0.0001),\n",
      "C:\\Users\\pedro\\AppData\\Local\\Temp\\ipykernel_3716\\1523801057.py:7: FutureWarning: suggest_uniform has been deprecated in v3.0.0. This feature will be removed in v6.0.0. See https://github.com/optuna/optuna/releases/tag/v3.0.0. Use :func:`~optuna.trial.Trial.suggest_float` instead.\n",
      "  'C': trial.suggest_uniform('C', 0.05, 2.5),\n",
      "\u001b[32m[I 2023-03-09 18:49:15,600]\u001b[0m Trial 13 finished with value: 0.0 and parameters: {'warm_start': True, 'fit_intercept': True, 'tol': 4.442633298290131e-05, 'C': 2.137260816006286, 'solver': 'lbfgs', 'max_iter': 294}. Best is trial 0 with value: 0.0.\u001b[0m\n",
      "C:\\Users\\pedro\\AppData\\Local\\Temp\\ipykernel_3716\\1523801057.py:6: FutureWarning: suggest_uniform has been deprecated in v3.0.0. This feature will be removed in v6.0.0. See https://github.com/optuna/optuna/releases/tag/v3.0.0. Use :func:`~optuna.trial.Trial.suggest_float` instead.\n",
      "  'tol': trial.suggest_uniform('tol', 0.00001, 0.0001),\n",
      "C:\\Users\\pedro\\AppData\\Local\\Temp\\ipykernel_3716\\1523801057.py:7: FutureWarning: suggest_uniform has been deprecated in v3.0.0. This feature will be removed in v6.0.0. See https://github.com/optuna/optuna/releases/tag/v3.0.0. Use :func:`~optuna.trial.Trial.suggest_float` instead.\n",
      "  'C': trial.suggest_uniform('C', 0.05, 2.5),\n",
      "\u001b[32m[I 2023-03-09 18:49:15,634]\u001b[0m Trial 14 finished with value: 0.0 and parameters: {'warm_start': True, 'fit_intercept': True, 'tol': 1.2063069377946486e-05, 'C': 1.8128080784737026, 'solver': 'liblinear', 'max_iter': 290}. Best is trial 0 with value: 0.0.\u001b[0m\n",
      "C:\\Users\\pedro\\AppData\\Local\\Temp\\ipykernel_3716\\1523801057.py:6: FutureWarning: suggest_uniform has been deprecated in v3.0.0. This feature will be removed in v6.0.0. See https://github.com/optuna/optuna/releases/tag/v3.0.0. Use :func:`~optuna.trial.Trial.suggest_float` instead.\n",
      "  'tol': trial.suggest_uniform('tol', 0.00001, 0.0001),\n",
      "C:\\Users\\pedro\\AppData\\Local\\Temp\\ipykernel_3716\\1523801057.py:7: FutureWarning: suggest_uniform has been deprecated in v3.0.0. This feature will be removed in v6.0.0. See https://github.com/optuna/optuna/releases/tag/v3.0.0. Use :func:`~optuna.trial.Trial.suggest_float` instead.\n",
      "  'C': trial.suggest_uniform('C', 0.05, 2.5),\n",
      "\u001b[32m[I 2023-03-09 18:49:15,679]\u001b[0m Trial 15 finished with value: 0.0 and parameters: {'warm_start': True, 'fit_intercept': True, 'tol': 6.74253771285936e-05, 'C': 2.222323407246375, 'solver': 'newton-cg', 'max_iter': 385}. Best is trial 0 with value: 0.0.\u001b[0m\n"
     ]
    },
    {
     "name": "stdout",
     "output_type": "stream",
     "text": [
      "[0.8        1.         0.79166667 0.8        0.84962406]\n",
      "0.0\n",
      "[0.8        1.         0.79166667 0.8        0.84962406]\n",
      "0.0\n",
      "[0.84962406 1.         0.79166667 0.84962406 0.84962406]\n",
      "0.0\n",
      "[0.8        1.         0.79166667 0.8        0.84962406]\n",
      "0.0\n"
     ]
    }
   ],
   "source": [
    "study = optuna.create_study(direction='minimize', sampler=TPESampler())\n",
    "study.optimize(partial(objective, n_folds = n_folds, X = X_train, y=y_train), n_trials=16)"
   ]
  },
  {
   "cell_type": "code",
   "execution_count": 5,
   "metadata": {},
   "outputs": [
    {
     "data": {
      "text/plain": [
       "{'warm_start': True,\n",
       " 'fit_intercept': True,\n",
       " 'tol': 2.360984548279897e-05,\n",
       " 'C': 2.458204404462609,\n",
       " 'solver': 'lbfgs',\n",
       " 'max_iter': 55}"
      ]
     },
     "execution_count": 5,
     "metadata": {},
     "output_type": "execute_result"
    }
   ],
   "source": [
    "study.best_trial.params"
   ]
  },
  {
   "cell_type": "code",
   "execution_count": 6,
   "metadata": {},
   "outputs": [
    {
     "data": {
      "text/plain": [
       "0.0"
      ]
     },
     "execution_count": 6,
     "metadata": {},
     "output_type": "execute_result"
    }
   ],
   "source": [
    "study.best_trial.value"
   ]
  },
  {
   "cell_type": "code",
   "execution_count": 7,
   "metadata": {},
   "outputs": [
    {
     "data": {
      "text/plain": [
       "functools.partial(<function objective at 0x000001F6FF5520E0>, n_folds=5, X=array([[-0.79495433, -0.03103261, -1.51848492, ..., -2.05238958,\n",
       "        -0.93417305,  0.96676889],\n",
       "       [ 0.81339979, -0.379493  , -1.64373414, ..., -0.37461693,\n",
       "        -0.82853333,  0.22766465],\n",
       "       [-0.51919548,  0.79748686, -1.47907965, ..., -2.07552727,\n",
       "        -0.56723337,  1.24265196],\n",
       "       ...,\n",
       "       [-0.90713403,  0.23365974,  1.30110706, ..., -2.76733113,\n",
       "         1.01773536, -1.62274866],\n",
       "       [ 0.24784173, -1.28416825,  0.46717554, ..., -0.02056132,\n",
       "         1.16366216,  0.28370374],\n",
       "       [ 0.18339589,  0.07319064,  0.27763402, ...,  0.61831341,\n",
       "         2.45383373,  1.8809781 ]]), y=array([0, 1, 1, 0, 0, 0, 1, 0, 1, 0, 0, 1, 1, 0, 0, 1, 0, 0, 1, 0, 0, 0,\n",
       "       1, 1, 1, 0, 1, 0, 0, 1, 0, 0, 1, 1, 1, 0, 0, 1, 0, 1, 1, 0, 1, 1,\n",
       "       1, 0, 0, 0, 0, 0, 0, 1, 1, 1, 1, 0, 1, 0, 0, 1, 1, 1, 0, 1, 0, 1,\n",
       "       0, 0, 1, 0, 0, 1, 1, 1, 0, 1, 0, 1, 0, 0, 0, 0, 1, 0, 0, 1, 0, 0,\n",
       "       0, 1, 1, 1, 1, 1, 0, 0, 1, 0, 0, 1]))"
      ]
     },
     "execution_count": 7,
     "metadata": {},
     "output_type": "execute_result"
    }
   ],
   "source": [
    "partial(objective, n_folds = n_folds, X = X_train, y=y_train)"
   ]
  },
  {
   "cell_type": "code",
   "execution_count": 8,
   "metadata": {},
   "outputs": [],
   "source": [
    "params = {'warm_start': False, \n",
    "          'fit_intercept': True, \n",
    "          'tol': 8.193190808600091e-05, \n",
    "          'C': 0.4314980151540406, \n",
    "          'solver': 'newton-cg', \n",
    "          'max_iter': 331}\n",
    "# Perform n_fold cross validation with hyperparameters\n",
    "clf = LogisticRegression(**params, random_state=42)\n",
    "scores = cross_val_score(clf, X, y, cv=n_folds, scoring='f1_macro')\n",
    "\n",
    "# Extract the best score\n",
    "max_score = max(scores)\n",
    "\n",
    "# Loss must be minimized\n",
    "loss = 1 - max_score"
   ]
  },
  {
   "cell_type": "code",
   "execution_count": 9,
   "metadata": {},
   "outputs": [
    {
     "name": "stdout",
     "output_type": "stream",
     "text": [
      "0.08800360462764556\n"
     ]
    }
   ],
   "source": [
    "print(loss)"
   ]
  },
  {
   "cell_type": "code",
   "execution_count": null,
   "metadata": {},
   "outputs": [],
   "source": []
  }
 ],
 "metadata": {
  "kernelspec": {
   "display_name": ".venv",
   "language": "python",
   "name": "python3"
  },
  "language_info": {
   "codemirror_mode": {
    "name": "ipython",
    "version": 3
   },
   "file_extension": ".py",
   "mimetype": "text/x-python",
   "name": "python",
   "nbconvert_exporter": "python",
   "pygments_lexer": "ipython3",
   "version": "3.10.10"
  },
  "orig_nbformat": 4,
  "vscode": {
   "interpreter": {
    "hash": "aa50fce573bf96505baa1879b1df9fc760df40ab7c3be66edff8570ca6fd1295"
   }
  }
 },
 "nbformat": 4,
 "nbformat_minor": 2
}
