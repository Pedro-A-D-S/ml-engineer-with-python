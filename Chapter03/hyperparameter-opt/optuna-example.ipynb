{
 "cells": [
  {
   "attachments": {},
   "cell_type": "markdown",
   "metadata": {},
   "source": [
    "# Imports"
   ]
  },
  {
   "cell_type": "code",
   "execution_count": 1,
   "metadata": {},
   "outputs": [
    {
     "name": "stderr",
     "output_type": "stream",
     "text": [
      "c:\\Users\\pedro\\OneDrive\\Documentos\\ml-engineer-with-python\\.venv\\lib\\site-packages\\tqdm\\auto.py:22: TqdmWarning: IProgress not found. Please update jupyter and ipywidgets. See https://ipywidgets.readthedocs.io/en/stable/user_install.html\n",
      "  from .autonotebook import tqdm as notebook_tqdm\n"
     ]
    }
   ],
   "source": [
    "import optuna\n",
    "from optuna.samplers import TPESampler\n",
    "\n",
    "from sklearn.linear_model import LogisticRegression\n",
    "from sklearn.model_selection import cross_val_score\n",
    "from sklearn import datasets\n",
    "\n",
    "from functools import partial"
   ]
  },
  {
   "attachments": {},
   "cell_type": "markdown",
   "metadata": {},
   "source": [
    "# Functions"
   ]
  },
  {
   "cell_type": "code",
   "execution_count": 3,
   "metadata": {},
   "outputs": [],
   "source": [
    "def objective(trial, n_folds, X, y):\n",
    "    \"\"\"Objective function for tuning logistic regression hyperparameters\"\"\"\n",
    "    params = {\n",
    "        'warm_start': trial.suggest_categorical('warm_start', [True, False]),\n",
    "        'fit_intercept': trial.suggest_categorical('fit_intercept', [True, False]),\n",
    "        'tol': trial.suggest_uniform('tol', 0.00001, 0.0001),\n",
    "        'C': trial.suggest_uniform('C', 0.05, 2.5),\n",
    "        'solver': trial.suggest_categorical('solver', ['newton-cg', 'lbfgs', 'liblinear']),\n",
    "        'max_iter': trial.suggest_categorical('max_iter', range(10, 500))\n",
    "    }\n",
    "    # Perform n_fold cross validation with hyperparameters\n",
    "    clf = LogisticRegression(**params, random_state=42)\n",
    "    scores = cross_val_score(clf, X, y, cv=n_folds, scoring='f1_macro')\n",
    "    \n",
    "    print(scores)\n",
    "    # Extract the best score\n",
    "    max_score = max(scores)\n",
    "\n",
    "    # Loss must be minimized\n",
    "    loss = 1 - max_score\n",
    "    print(loss)\n",
    "    # Dictionary with information for evaluation\n",
    "    return loss"
   ]
  },
  {
   "attachments": {},
   "cell_type": "markdown",
   "metadata": {},
   "source": [
    "# Get Data"
   ]
  },
  {
   "cell_type": "code",
   "execution_count": 4,
   "metadata": {},
   "outputs": [],
   "source": [
    "n_folds = 5\n",
    "X, y = datasets.make_classification(n_samples=100000, n_features=20,\n",
    "                                    n_informative=2, n_redundant=2)\n",
    "\n",
    "train_samples = 100  # Samples used for training the models\n",
    "\n",
    "X_train = X[:train_samples]\n",
    "X_test = X[train_samples:]\n",
    "y_train = y[:train_samples]\n",
    "y_test = y[train_samples:]"
   ]
  },
  {
   "attachments": {},
   "cell_type": "markdown",
   "metadata": {},
   "source": [
    "# Tuning"
   ]
  },
  {
   "cell_type": "code",
   "execution_count": 5,
   "metadata": {},
   "outputs": [
    {
     "name": "stderr",
     "output_type": "stream",
     "text": [
      "\u001b[32m[I 2023-02-23 20:03:31,988]\u001b[0m A new study created in memory with name: no-name-a8ec8d8b-a3ab-40cb-aae0-2017c61be16a\u001b[0m\n",
      "C:\\Users\\pedro\\AppData\\Local\\Temp\\ipykernel_12400\\1523801057.py:6: FutureWarning: suggest_uniform has been deprecated in v3.0.0. This feature will be removed in v6.0.0. See https://github.com/optuna/optuna/releases/tag/v3.0.0. Use :func:`~optuna.trial.Trial.suggest_float` instead.\n",
      "  'tol': trial.suggest_uniform('tol', 0.00001, 0.0001),\n",
      "C:\\Users\\pedro\\AppData\\Local\\Temp\\ipykernel_12400\\1523801057.py:7: FutureWarning: suggest_uniform has been deprecated in v3.0.0. This feature will be removed in v6.0.0. See https://github.com/optuna/optuna/releases/tag/v3.0.0. Use :func:`~optuna.trial.Trial.suggest_float` instead.\n",
      "  'C': trial.suggest_uniform('C', 0.05, 2.5),\n",
      "\u001b[32m[I 2023-02-23 20:03:32,047]\u001b[0m Trial 0 finished with value: 0.09999999999999998 and parameters: {'warm_start': False, 'fit_intercept': True, 'tol': 2.4350702129234997e-05, 'C': 1.939986797620223, 'solver': 'lbfgs', 'max_iter': 268}. Best is trial 0 with value: 0.09999999999999998.\u001b[0m\n",
      "C:\\Users\\pedro\\AppData\\Local\\Temp\\ipykernel_12400\\1523801057.py:6: FutureWarning: suggest_uniform has been deprecated in v3.0.0. This feature will be removed in v6.0.0. See https://github.com/optuna/optuna/releases/tag/v3.0.0. Use :func:`~optuna.trial.Trial.suggest_float` instead.\n",
      "  'tol': trial.suggest_uniform('tol', 0.00001, 0.0001),\n",
      "C:\\Users\\pedro\\AppData\\Local\\Temp\\ipykernel_12400\\1523801057.py:7: FutureWarning: suggest_uniform has been deprecated in v3.0.0. This feature will be removed in v6.0.0. See https://github.com/optuna/optuna/releases/tag/v3.0.0. Use :func:`~optuna.trial.Trial.suggest_float` instead.\n",
      "  'C': trial.suggest_uniform('C', 0.05, 2.5),\n",
      "\u001b[32m[I 2023-02-23 20:03:32,083]\u001b[0m Trial 1 finished with value: 0.101010101010101 and parameters: {'warm_start': True, 'fit_intercept': False, 'tol': 1.4549233613782876e-05, 'C': 0.7786692266733383, 'solver': 'lbfgs', 'max_iter': 254}. Best is trial 0 with value: 0.09999999999999998.\u001b[0m\n",
      "C:\\Users\\pedro\\AppData\\Local\\Temp\\ipykernel_12400\\1523801057.py:6: FutureWarning: suggest_uniform has been deprecated in v3.0.0. This feature will be removed in v6.0.0. See https://github.com/optuna/optuna/releases/tag/v3.0.0. Use :func:`~optuna.trial.Trial.suggest_float` instead.\n",
      "  'tol': trial.suggest_uniform('tol', 0.00001, 0.0001),\n",
      "C:\\Users\\pedro\\AppData\\Local\\Temp\\ipykernel_12400\\1523801057.py:7: FutureWarning: suggest_uniform has been deprecated in v3.0.0. This feature will be removed in v6.0.0. See https://github.com/optuna/optuna/releases/tag/v3.0.0. Use :func:`~optuna.trial.Trial.suggest_float` instead.\n",
      "  'C': trial.suggest_uniform('C', 0.05, 2.5),\n",
      "\u001b[32m[I 2023-02-23 20:03:32,122]\u001b[0m Trial 2 finished with value: 0.10416666666666663 and parameters: {'warm_start': False, 'fit_intercept': False, 'tol': 6.70985722831719e-05, 'C': 0.6645210755622772, 'solver': 'newton-cg', 'max_iter': 243}. Best is trial 0 with value: 0.09999999999999998.\u001b[0m\n",
      "C:\\Users\\pedro\\AppData\\Local\\Temp\\ipykernel_12400\\1523801057.py:6: FutureWarning: suggest_uniform has been deprecated in v3.0.0. This feature will be removed in v6.0.0. See https://github.com/optuna/optuna/releases/tag/v3.0.0. Use :func:`~optuna.trial.Trial.suggest_float` instead.\n",
      "  'tol': trial.suggest_uniform('tol', 0.00001, 0.0001),\n",
      "C:\\Users\\pedro\\AppData\\Local\\Temp\\ipykernel_12400\\1523801057.py:7: FutureWarning: suggest_uniform has been deprecated in v3.0.0. This feature will be removed in v6.0.0. See https://github.com/optuna/optuna/releases/tag/v3.0.0. Use :func:`~optuna.trial.Trial.suggest_float` instead.\n",
      "  'C': trial.suggest_uniform('C', 0.05, 2.5),\n",
      "\u001b[32m[I 2023-02-23 20:03:32,150]\u001b[0m Trial 3 finished with value: 0.101010101010101 and parameters: {'warm_start': True, 'fit_intercept': False, 'tol': 4.99368991823542e-05, 'C': 0.08119293831078968, 'solver': 'lbfgs', 'max_iter': 479}. Best is trial 0 with value: 0.09999999999999998.\u001b[0m\n",
      "C:\\Users\\pedro\\AppData\\Local\\Temp\\ipykernel_12400\\1523801057.py:6: FutureWarning: suggest_uniform has been deprecated in v3.0.0. This feature will be removed in v6.0.0. See https://github.com/optuna/optuna/releases/tag/v3.0.0. Use :func:`~optuna.trial.Trial.suggest_float` instead.\n",
      "  'tol': trial.suggest_uniform('tol', 0.00001, 0.0001),\n",
      "C:\\Users\\pedro\\AppData\\Local\\Temp\\ipykernel_12400\\1523801057.py:7: FutureWarning: suggest_uniform has been deprecated in v3.0.0. This feature will be removed in v6.0.0. See https://github.com/optuna/optuna/releases/tag/v3.0.0. Use :func:`~optuna.trial.Trial.suggest_float` instead.\n",
      "  'C': trial.suggest_uniform('C', 0.05, 2.5),\n",
      "\u001b[32m[I 2023-02-23 20:03:32,182]\u001b[0m Trial 4 finished with value: 0.101010101010101 and parameters: {'warm_start': True, 'fit_intercept': False, 'tol': 8.0078659161564e-05, 'C': 0.867563241064366, 'solver': 'lbfgs', 'max_iter': 344}. Best is trial 0 with value: 0.09999999999999998.\u001b[0m\n",
      "C:\\Users\\pedro\\AppData\\Local\\Temp\\ipykernel_12400\\1523801057.py:6: FutureWarning: suggest_uniform has been deprecated in v3.0.0. This feature will be removed in v6.0.0. See https://github.com/optuna/optuna/releases/tag/v3.0.0. Use :func:`~optuna.trial.Trial.suggest_float` instead.\n",
      "  'tol': trial.suggest_uniform('tol', 0.00001, 0.0001),\n",
      "C:\\Users\\pedro\\AppData\\Local\\Temp\\ipykernel_12400\\1523801057.py:7: FutureWarning: suggest_uniform has been deprecated in v3.0.0. This feature will be removed in v6.0.0. See https://github.com/optuna/optuna/releases/tag/v3.0.0. Use :func:`~optuna.trial.Trial.suggest_float` instead.\n",
      "  'C': trial.suggest_uniform('C', 0.05, 2.5),\n",
      "\u001b[32m[I 2023-02-23 20:03:32,206]\u001b[0m Trial 5 finished with value: 0.09999999999999998 and parameters: {'warm_start': False, 'fit_intercept': True, 'tol': 5.7531883299597983e-05, 'C': 1.5797865575101173, 'solver': 'liblinear', 'max_iter': 82}. Best is trial 0 with value: 0.09999999999999998.\u001b[0m\n",
      "C:\\Users\\pedro\\AppData\\Local\\Temp\\ipykernel_12400\\1523801057.py:6: FutureWarning: suggest_uniform has been deprecated in v3.0.0. This feature will be removed in v6.0.0. See https://github.com/optuna/optuna/releases/tag/v3.0.0. Use :func:`~optuna.trial.Trial.suggest_float` instead.\n",
      "  'tol': trial.suggest_uniform('tol', 0.00001, 0.0001),\n",
      "C:\\Users\\pedro\\AppData\\Local\\Temp\\ipykernel_12400\\1523801057.py:7: FutureWarning: suggest_uniform has been deprecated in v3.0.0. This feature will be removed in v6.0.0. See https://github.com/optuna/optuna/releases/tag/v3.0.0. Use :func:`~optuna.trial.Trial.suggest_float` instead.\n",
      "  'C': trial.suggest_uniform('C', 0.05, 2.5),\n",
      "\u001b[32m[I 2023-02-23 20:03:32,240]\u001b[0m Trial 6 finished with value: 0.051150895140664954 and parameters: {'warm_start': False, 'fit_intercept': True, 'tol': 2.7120640743492814e-05, 'C': 0.9548082117083256, 'solver': 'lbfgs', 'max_iter': 147}. Best is trial 6 with value: 0.051150895140664954.\u001b[0m\n"
     ]
    },
    {
     "name": "stdout",
     "output_type": "stream",
     "text": [
      "[0.7979798  0.89583333 0.89583333 0.9        0.9       ]\n",
      "0.09999999999999998\n",
      "[0.7979798 0.84      0.84      0.7979798 0.8989899]\n",
      "0.101010101010101\n",
      "[0.7979798  0.89583333 0.84       0.7979798  0.84962406]\n",
      "0.10416666666666663\n",
      "[0.84962406 0.84       0.89583333 0.84654731 0.8989899 ]\n",
      "0.101010101010101\n",
      "[0.7979798 0.84      0.84      0.7979798 0.8989899]\n",
      "0.101010101010101\n",
      "[0.7979798  0.89583333 0.89583333 0.84962406 0.9       ]\n",
      "0.09999999999999998\n",
      "[0.7979798  0.9488491  0.89583333 0.84962406 0.9       ]\n",
      "0.051150895140664954\n"
     ]
    },
    {
     "name": "stderr",
     "output_type": "stream",
     "text": [
      "C:\\Users\\pedro\\AppData\\Local\\Temp\\ipykernel_12400\\1523801057.py:6: FutureWarning: suggest_uniform has been deprecated in v3.0.0. This feature will be removed in v6.0.0. See https://github.com/optuna/optuna/releases/tag/v3.0.0. Use :func:`~optuna.trial.Trial.suggest_float` instead.\n",
      "  'tol': trial.suggest_uniform('tol', 0.00001, 0.0001),\n",
      "C:\\Users\\pedro\\AppData\\Local\\Temp\\ipykernel_12400\\1523801057.py:7: FutureWarning: suggest_uniform has been deprecated in v3.0.0. This feature will be removed in v6.0.0. See https://github.com/optuna/optuna/releases/tag/v3.0.0. Use :func:`~optuna.trial.Trial.suggest_float` instead.\n",
      "  'C': trial.suggest_uniform('C', 0.05, 2.5),\n",
      "\u001b[32m[I 2023-02-23 20:03:32,262]\u001b[0m Trial 7 finished with value: 0.101010101010101 and parameters: {'warm_start': False, 'fit_intercept': False, 'tol': 5.322657032446372e-05, 'C': 0.24770145403323546, 'solver': 'liblinear', 'max_iter': 31}. Best is trial 6 with value: 0.051150895140664954.\u001b[0m\n",
      "C:\\Users\\pedro\\AppData\\Local\\Temp\\ipykernel_12400\\1523801057.py:6: FutureWarning: suggest_uniform has been deprecated in v3.0.0. This feature will be removed in v6.0.0. See https://github.com/optuna/optuna/releases/tag/v3.0.0. Use :func:`~optuna.trial.Trial.suggest_float` instead.\n",
      "  'tol': trial.suggest_uniform('tol', 0.00001, 0.0001),\n",
      "C:\\Users\\pedro\\AppData\\Local\\Temp\\ipykernel_12400\\1523801057.py:7: FutureWarning: suggest_uniform has been deprecated in v3.0.0. This feature will be removed in v6.0.0. See https://github.com/optuna/optuna/releases/tag/v3.0.0. Use :func:`~optuna.trial.Trial.suggest_float` instead.\n",
      "  'C': trial.suggest_uniform('C', 0.05, 2.5),\n",
      "\u001b[32m[I 2023-02-23 20:03:32,298]\u001b[0m Trial 8 finished with value: 0.101010101010101 and parameters: {'warm_start': True, 'fit_intercept': False, 'tol': 4.0205151351197084e-05, 'C': 0.8744741487862764, 'solver': 'lbfgs', 'max_iter': 476}. Best is trial 6 with value: 0.051150895140664954.\u001b[0m\n",
      "C:\\Users\\pedro\\AppData\\Local\\Temp\\ipykernel_12400\\1523801057.py:6: FutureWarning: suggest_uniform has been deprecated in v3.0.0. This feature will be removed in v6.0.0. See https://github.com/optuna/optuna/releases/tag/v3.0.0. Use :func:`~optuna.trial.Trial.suggest_float` instead.\n",
      "  'tol': trial.suggest_uniform('tol', 0.00001, 0.0001),\n",
      "C:\\Users\\pedro\\AppData\\Local\\Temp\\ipykernel_12400\\1523801057.py:7: FutureWarning: suggest_uniform has been deprecated in v3.0.0. This feature will be removed in v6.0.0. See https://github.com/optuna/optuna/releases/tag/v3.0.0. Use :func:`~optuna.trial.Trial.suggest_float` instead.\n",
      "  'C': trial.suggest_uniform('C', 0.05, 2.5),\n",
      "\u001b[32m[I 2023-02-23 20:03:32,320]\u001b[0m Trial 9 finished with value: 0.101010101010101 and parameters: {'warm_start': False, 'fit_intercept': False, 'tol': 8.179045547070582e-05, 'C': 2.08819813452042, 'solver': 'liblinear', 'max_iter': 173}. Best is trial 6 with value: 0.051150895140664954.\u001b[0m\n",
      "C:\\Users\\pedro\\AppData\\Local\\Temp\\ipykernel_12400\\1523801057.py:6: FutureWarning: suggest_uniform has been deprecated in v3.0.0. This feature will be removed in v6.0.0. See https://github.com/optuna/optuna/releases/tag/v3.0.0. Use :func:`~optuna.trial.Trial.suggest_float` instead.\n",
      "  'tol': trial.suggest_uniform('tol', 0.00001, 0.0001),\n",
      "C:\\Users\\pedro\\AppData\\Local\\Temp\\ipykernel_12400\\1523801057.py:7: FutureWarning: suggest_uniform has been deprecated in v3.0.0. This feature will be removed in v6.0.0. See https://github.com/optuna/optuna/releases/tag/v3.0.0. Use :func:`~optuna.trial.Trial.suggest_float` instead.\n",
      "  'C': trial.suggest_uniform('C', 0.05, 2.5),\n",
      "\u001b[32m[I 2023-02-23 20:03:32,376]\u001b[0m Trial 10 finished with value: 0.09999999999999998 and parameters: {'warm_start': False, 'fit_intercept': True, 'tol': 3.221002380297762e-05, 'C': 2.412783926649204, 'solver': 'newton-cg', 'max_iter': 318}. Best is trial 6 with value: 0.051150895140664954.\u001b[0m\n",
      "C:\\Users\\pedro\\AppData\\Local\\Temp\\ipykernel_12400\\1523801057.py:6: FutureWarning: suggest_uniform has been deprecated in v3.0.0. This feature will be removed in v6.0.0. See https://github.com/optuna/optuna/releases/tag/v3.0.0. Use :func:`~optuna.trial.Trial.suggest_float` instead.\n",
      "  'tol': trial.suggest_uniform('tol', 0.00001, 0.0001),\n",
      "C:\\Users\\pedro\\AppData\\Local\\Temp\\ipykernel_12400\\1523801057.py:7: FutureWarning: suggest_uniform has been deprecated in v3.0.0. This feature will be removed in v6.0.0. See https://github.com/optuna/optuna/releases/tag/v3.0.0. Use :func:`~optuna.trial.Trial.suggest_float` instead.\n",
      "  'C': trial.suggest_uniform('C', 0.05, 2.5),\n",
      "\u001b[32m[I 2023-02-23 20:03:32,417]\u001b[0m Trial 11 finished with value: 0.09999999999999998 and parameters: {'warm_start': False, 'fit_intercept': True, 'tol': 1.4218769453872571e-05, 'C': 1.5668022474696577, 'solver': 'lbfgs', 'max_iter': 211}. Best is trial 6 with value: 0.051150895140664954.\u001b[0m\n",
      "C:\\Users\\pedro\\AppData\\Local\\Temp\\ipykernel_12400\\1523801057.py:6: FutureWarning: suggest_uniform has been deprecated in v3.0.0. This feature will be removed in v6.0.0. See https://github.com/optuna/optuna/releases/tag/v3.0.0. Use :func:`~optuna.trial.Trial.suggest_float` instead.\n",
      "  'tol': trial.suggest_uniform('tol', 0.00001, 0.0001),\n",
      "C:\\Users\\pedro\\AppData\\Local\\Temp\\ipykernel_12400\\1523801057.py:7: FutureWarning: suggest_uniform has been deprecated in v3.0.0. This feature will be removed in v6.0.0. See https://github.com/optuna/optuna/releases/tag/v3.0.0. Use :func:`~optuna.trial.Trial.suggest_float` instead.\n",
      "  'C': trial.suggest_uniform('C', 0.05, 2.5),\n"
     ]
    },
    {
     "name": "stdout",
     "output_type": "stream",
     "text": [
      "[0.7979798  0.84       0.84       0.84654731 0.8989899 ]\n",
      "0.101010101010101\n",
      "[0.7979798  0.84       0.89583333 0.7979798  0.8989899 ]\n",
      "0.101010101010101\n",
      "[0.7979798  0.89583333 0.89583333 0.7979798  0.8989899 ]\n",
      "0.101010101010101\n",
      "[0.7979798  0.89583333 0.89583333 0.9        0.9       ]\n",
      "0.09999999999999998\n",
      "[0.7979798  0.89583333 0.89583333 0.84962406 0.9       ]\n",
      "0.09999999999999998\n"
     ]
    },
    {
     "name": "stderr",
     "output_type": "stream",
     "text": [
      "\u001b[32m[I 2023-02-23 20:03:32,466]\u001b[0m Trial 12 finished with value: 0.09999999999999998 and parameters: {'warm_start': False, 'fit_intercept': True, 'tol': 2.4960665669811666e-05, 'C': 1.3124216392538226, 'solver': 'lbfgs', 'max_iter': 406}. Best is trial 6 with value: 0.051150895140664954.\u001b[0m\n",
      "C:\\Users\\pedro\\AppData\\Local\\Temp\\ipykernel_12400\\1523801057.py:6: FutureWarning: suggest_uniform has been deprecated in v3.0.0. This feature will be removed in v6.0.0. See https://github.com/optuna/optuna/releases/tag/v3.0.0. Use :func:`~optuna.trial.Trial.suggest_float` instead.\n",
      "  'tol': trial.suggest_uniform('tol', 0.00001, 0.0001),\n",
      "C:\\Users\\pedro\\AppData\\Local\\Temp\\ipykernel_12400\\1523801057.py:7: FutureWarning: suggest_uniform has been deprecated in v3.0.0. This feature will be removed in v6.0.0. See https://github.com/optuna/optuna/releases/tag/v3.0.0. Use :func:`~optuna.trial.Trial.suggest_float` instead.\n",
      "  'C': trial.suggest_uniform('C', 0.05, 2.5),\n",
      "\u001b[32m[I 2023-02-23 20:03:32,512]\u001b[0m Trial 13 finished with value: 0.09999999999999998 and parameters: {'warm_start': False, 'fit_intercept': True, 'tol': 2.8866818129375794e-05, 'C': 1.98592141795556, 'solver': 'lbfgs', 'max_iter': 423}. Best is trial 6 with value: 0.051150895140664954.\u001b[0m\n",
      "C:\\Users\\pedro\\AppData\\Local\\Temp\\ipykernel_12400\\1523801057.py:6: FutureWarning: suggest_uniform has been deprecated in v3.0.0. This feature will be removed in v6.0.0. See https://github.com/optuna/optuna/releases/tag/v3.0.0. Use :func:`~optuna.trial.Trial.suggest_float` instead.\n",
      "  'tol': trial.suggest_uniform('tol', 0.00001, 0.0001),\n",
      "C:\\Users\\pedro\\AppData\\Local\\Temp\\ipykernel_12400\\1523801057.py:7: FutureWarning: suggest_uniform has been deprecated in v3.0.0. This feature will be removed in v6.0.0. See https://github.com/optuna/optuna/releases/tag/v3.0.0. Use :func:`~optuna.trial.Trial.suggest_float` instead.\n",
      "  'C': trial.suggest_uniform('C', 0.05, 2.5),\n",
      "\u001b[32m[I 2023-02-23 20:03:32,559]\u001b[0m Trial 14 finished with value: 0.09999999999999998 and parameters: {'warm_start': False, 'fit_intercept': True, 'tol': 1.021959344512961e-05, 'C': 1.2206456954723288, 'solver': 'lbfgs', 'max_iter': 108}. Best is trial 6 with value: 0.051150895140664954.\u001b[0m\n",
      "C:\\Users\\pedro\\AppData\\Local\\Temp\\ipykernel_12400\\1523801057.py:6: FutureWarning: suggest_uniform has been deprecated in v3.0.0. This feature will be removed in v6.0.0. See https://github.com/optuna/optuna/releases/tag/v3.0.0. Use :func:`~optuna.trial.Trial.suggest_float` instead.\n",
      "  'tol': trial.suggest_uniform('tol', 0.00001, 0.0001),\n",
      "C:\\Users\\pedro\\AppData\\Local\\Temp\\ipykernel_12400\\1523801057.py:7: FutureWarning: suggest_uniform has been deprecated in v3.0.0. This feature will be removed in v6.0.0. See https://github.com/optuna/optuna/releases/tag/v3.0.0. Use :func:`~optuna.trial.Trial.suggest_float` instead.\n",
      "  'C': trial.suggest_uniform('C', 0.05, 2.5),\n",
      "\u001b[32m[I 2023-02-23 20:03:32,606]\u001b[0m Trial 15 finished with value: 0.09999999999999998 and parameters: {'warm_start': False, 'fit_intercept': True, 'tol': 4.01023562590086e-05, 'C': 1.8130701414334058, 'solver': 'newton-cg', 'max_iter': 421}. Best is trial 6 with value: 0.051150895140664954.\u001b[0m\n"
     ]
    },
    {
     "name": "stdout",
     "output_type": "stream",
     "text": [
      "[0.7979798  0.89583333 0.89583333 0.84962406 0.9       ]\n",
      "0.09999999999999998\n",
      "[0.7979798  0.89583333 0.89583333 0.9        0.9       ]\n",
      "0.09999999999999998\n",
      "[0.7979798  0.89583333 0.89583333 0.84962406 0.9       ]\n",
      "0.09999999999999998\n",
      "[0.7979798  0.89583333 0.89583333 0.9        0.9       ]\n",
      "0.09999999999999998\n"
     ]
    }
   ],
   "source": [
    "study = optuna.create_study(direction='minimize', sampler=TPESampler())\n",
    "study.optimize(partial(objective, n_folds = n_folds, X = X_train, y=y_train), n_trials=16)"
   ]
  },
  {
   "cell_type": "code",
   "execution_count": 6,
   "metadata": {},
   "outputs": [
    {
     "data": {
      "text/plain": [
       "{'warm_start': False,\n",
       " 'fit_intercept': True,\n",
       " 'tol': 2.7120640743492814e-05,\n",
       " 'C': 0.9548082117083256,\n",
       " 'solver': 'lbfgs',\n",
       " 'max_iter': 147}"
      ]
     },
     "execution_count": 6,
     "metadata": {},
     "output_type": "execute_result"
    }
   ],
   "source": [
    "study.best_trial.params"
   ]
  },
  {
   "cell_type": "code",
   "execution_count": 7,
   "metadata": {},
   "outputs": [
    {
     "data": {
      "text/plain": [
       "0.051150895140664954"
      ]
     },
     "execution_count": 7,
     "metadata": {},
     "output_type": "execute_result"
    }
   ],
   "source": [
    "study.best_trial.value"
   ]
  },
  {
   "cell_type": "code",
   "execution_count": 10,
   "metadata": {},
   "outputs": [
    {
     "data": {
      "text/plain": [
       "functools.partial(<function objective at 0x00000218BC642170>, n_folds=5, X=array([[ 0.22132182, -0.72239642, -0.23634642, ...,  1.25701695,\n",
       "        -0.43789562, -0.01936726],\n",
       "       [-0.01039982, -0.12655362,  0.45441532, ...,  0.45396476,\n",
       "        -0.30134227, -0.31778429],\n",
       "       [ 0.32092987, -1.58238764, -0.96346248, ..., -0.25408732,\n",
       "        -0.78753659, -0.2678004 ],\n",
       "       ...,\n",
       "       [ 0.85875625,  0.04450725,  0.16397584, ...,  0.39512966,\n",
       "        -0.26092088, -0.5058603 ],\n",
       "       [ 0.94688282, -0.86182374,  1.20067288, ..., -0.829711  ,\n",
       "        -1.18546038,  0.34309249],\n",
       "       [-1.04129042, -0.76525477,  0.83681811, ..., -0.65861776,\n",
       "         0.68241711,  0.83205102]]), y=array([0, 0, 0, 0, 1, 0, 1, 0, 0, 0, 1, 1, 0, 0, 1, 0, 0, 0, 1, 0, 0, 1,\n",
       "       1, 1, 1, 1, 0, 1, 0, 1, 0, 0, 1, 0, 0, 1, 1, 1, 1, 1, 1, 0, 1, 1,\n",
       "       1, 1, 1, 0, 0, 1, 0, 1, 1, 0, 1, 1, 1, 0, 1, 0, 1, 1, 1, 0, 0, 1,\n",
       "       1, 0, 1, 1, 0, 0, 0, 0, 1, 0, 0, 1, 0, 0, 0, 1, 1, 0, 0, 0, 0, 1,\n",
       "       1, 1, 1, 1, 0, 1, 1, 0, 1, 1, 1, 1]))"
      ]
     },
     "execution_count": 10,
     "metadata": {},
     "output_type": "execute_result"
    }
   ],
   "source": [
    "partial(objective, n_folds = n_folds, X = X_train, y=y_train)"
   ]
  },
  {
   "cell_type": "code",
   "execution_count": 11,
   "metadata": {},
   "outputs": [],
   "source": [
    "params = {'warm_start': False, \n",
    "          'fit_intercept': True, \n",
    "          'tol': 8.193190808600091e-05, \n",
    "          'C': 0.4314980151540406, \n",
    "          'solver': 'newton-cg', \n",
    "          'max_iter': 331}\n",
    "# Perform n_fold cross validation with hyperparameters\n",
    "clf = LogisticRegression(**params, random_state=42)\n",
    "scores = cross_val_score(clf, X, y, cv=n_folds, scoring='f1_macro')\n",
    "\n",
    "# Extract the best score\n",
    "max_score = max(scores)\n",
    "\n",
    "# Loss must be minimized\n",
    "loss = 1 - max_score"
   ]
  },
  {
   "cell_type": "code",
   "execution_count": 12,
   "metadata": {},
   "outputs": [
    {
     "name": "stdout",
     "output_type": "stream",
     "text": [
      "0.07721075082494488\n"
     ]
    }
   ],
   "source": [
    "print(loss)"
   ]
  },
  {
   "cell_type": "code",
   "execution_count": null,
   "metadata": {},
   "outputs": [],
   "source": []
  }
 ],
 "metadata": {
  "kernelspec": {
   "display_name": ".venv",
   "language": "python",
   "name": "python3"
  },
  "language_info": {
   "codemirror_mode": {
    "name": "ipython",
    "version": 3
   },
   "file_extension": ".py",
   "mimetype": "text/x-python",
   "name": "python",
   "nbconvert_exporter": "python",
   "pygments_lexer": "ipython3",
   "version": "3.10.10"
  },
  "orig_nbformat": 4,
  "vscode": {
   "interpreter": {
    "hash": "aa50fce573bf96505baa1879b1df9fc760df40ab7c3be66edff8570ca6fd1295"
   }
  }
 },
 "nbformat": 4,
 "nbformat_minor": 2
}
