{
 "cells": [
  {
   "attachments": {},
   "cell_type": "markdown",
   "metadata": {},
   "source": [
    "# Item Demand Forecasting"
   ]
  },
  {
   "attachments": {},
   "cell_type": "markdown",
   "metadata": {},
   "source": [
    "This notebook details some basic code to get a simple time series forecasting algorithms up and running for several item demand profiles. The focus here is not an optimised algorithm, but to create a simple base model from which we can explore the concepts of machine learning engineering in the rest of the book."
   ]
  },
  {
   "attachments": {},
   "cell_type": "markdown",
   "metadata": {},
   "source": [
    "# The Problem"
   ]
  },
  {
   "attachments": {},
   "cell_type": "markdown",
   "metadata": {},
   "source": [
    "The problem outlined in the book is deceptively complex, so here we will re-iterate some of the details\n",
    "\n",
    "1. The aim is to create a suite of forecasting models for many items in many regions\n",
    "2. The user will interface with the models via a basic frontend\n",
    "3. The user should have the ability to: a. Select the forecasts they want to see b. Ask for a retrain of the selected forecasting models (and then have the forecasts updated) c. [BONUS] Add conditional variables to perform scenario analysis"
   ]
  },
  {
   "attachments": {},
   "cell_type": "markdown",
   "metadata": {},
   "source": [
    "From a machine learning point of view this can be supplied via:"
   ]
  },
  {
   "attachments": {},
   "cell_type": "markdown",
   "metadata": {},
   "source": [
    "1. A batch training of N baseline models (N = combinations of region and product)\n",
    "2. Storing of the models in MLFlow\n",
    "3. The app, when requested for specific models, can retrieve the models from MLFlow and cache them for the session\n",
    "4. The app, when requested for specific forecasts, can performt the forecasts on the cached models\n",
    "5. The app, when requested for retrains, can send a request to trigger a training run of the selected models in the original batch system.\n",
    "6. The training system, when requested for retrains, can compare performance against current models in 7. MLFlow and decised to promote to 'production'\n",
    "The app will have to detect that there is a new production model in MLFlow and replace current model (to work this out)"
   ]
  },
  {
   "attachments": {},
   "cell_type": "markdown",
   "metadata": {},
   "source": [
    "# This Notebook"
   ]
  },
  {
   "attachments": {},
   "cell_type": "markdown",
   "metadata": {},
   "source": [
    "This notebook will create some baseline experiments to show that forecasting can be done at the region and item level, but will not concern itself with scaling to all regions and items nor with the deployment architecture and methodology (to be discussed later in the book)."
   ]
  },
  {
   "attachments": {},
   "cell_type": "markdown",
   "metadata": {},
   "source": [
    "# Set Up"
   ]
  },
  {
   "cell_type": "code",
   "execution_count": 2,
   "metadata": {},
   "outputs": [],
   "source": [
    "import pandas as pd\n",
    "import numpy as np\n",
    "import matplotlib.pyplot as plt\n",
    "plt.rcParams.update({'font.size': 22})\n",
    "\n",
    "from prophet import Prophet"
   ]
  },
  {
   "attachments": {},
   "cell_type": "markdown",
   "metadata": {},
   "source": [
    "# Get Dataset"
   ]
  },
  {
   "cell_type": "code",
   "execution_count": 4,
   "metadata": {},
   "outputs": [],
   "source": [
    "df = pd.read_csv('../data/rossman/train.csv', low_memory = False)"
   ]
  },
  {
   "cell_type": "code",
   "execution_count": 5,
   "metadata": {},
   "outputs": [
    {
     "data": {
      "text/plain": [
       "Store             int64\n",
       "DayOfWeek         int64\n",
       "Date             object\n",
       "Sales             int64\n",
       "Customers         int64\n",
       "Open              int64\n",
       "Promo             int64\n",
       "StateHoliday     object\n",
       "SchoolHoliday     int64\n",
       "dtype: object"
      ]
     },
     "execution_count": 5,
     "metadata": {},
     "output_type": "execute_result"
    }
   ],
   "source": [
    "df.dtypes"
   ]
  },
  {
   "cell_type": "code",
   "execution_count": 6,
   "metadata": {},
   "outputs": [],
   "source": [
    "df['Date'] = pd.to_datetime(df['Date'])"
   ]
  },
  {
   "cell_type": "code",
   "execution_count": 7,
   "metadata": {},
   "outputs": [
    {
     "data": {
      "text/html": [
       "<div>\n",
       "<style scoped>\n",
       "    .dataframe tbody tr th:only-of-type {\n",
       "        vertical-align: middle;\n",
       "    }\n",
       "\n",
       "    .dataframe tbody tr th {\n",
       "        vertical-align: top;\n",
       "    }\n",
       "\n",
       "    .dataframe thead th {\n",
       "        text-align: right;\n",
       "    }\n",
       "</style>\n",
       "<table border=\"1\" class=\"dataframe\">\n",
       "  <thead>\n",
       "    <tr style=\"text-align: right;\">\n",
       "      <th></th>\n",
       "      <th>Date</th>\n",
       "      <th>Store</th>\n",
       "      <th>Sales</th>\n",
       "    </tr>\n",
       "  </thead>\n",
       "  <tbody>\n",
       "    <tr>\n",
       "      <th>0</th>\n",
       "      <td>2015-07-31</td>\n",
       "      <td>1</td>\n",
       "      <td>5263</td>\n",
       "    </tr>\n",
       "    <tr>\n",
       "      <th>1</th>\n",
       "      <td>2015-07-31</td>\n",
       "      <td>2</td>\n",
       "      <td>6064</td>\n",
       "    </tr>\n",
       "    <tr>\n",
       "      <th>2</th>\n",
       "      <td>2015-07-31</td>\n",
       "      <td>3</td>\n",
       "      <td>8314</td>\n",
       "    </tr>\n",
       "    <tr>\n",
       "      <th>3</th>\n",
       "      <td>2015-07-31</td>\n",
       "      <td>4</td>\n",
       "      <td>13995</td>\n",
       "    </tr>\n",
       "    <tr>\n",
       "      <th>4</th>\n",
       "      <td>2015-07-31</td>\n",
       "      <td>5</td>\n",
       "      <td>4822</td>\n",
       "    </tr>\n",
       "    <tr>\n",
       "      <th>...</th>\n",
       "      <td>...</td>\n",
       "      <td>...</td>\n",
       "      <td>...</td>\n",
       "    </tr>\n",
       "    <tr>\n",
       "      <th>1017204</th>\n",
       "      <td>2013-01-01</td>\n",
       "      <td>1111</td>\n",
       "      <td>0</td>\n",
       "    </tr>\n",
       "    <tr>\n",
       "      <th>1017205</th>\n",
       "      <td>2013-01-01</td>\n",
       "      <td>1112</td>\n",
       "      <td>0</td>\n",
       "    </tr>\n",
       "    <tr>\n",
       "      <th>1017206</th>\n",
       "      <td>2013-01-01</td>\n",
       "      <td>1113</td>\n",
       "      <td>0</td>\n",
       "    </tr>\n",
       "    <tr>\n",
       "      <th>1017207</th>\n",
       "      <td>2013-01-01</td>\n",
       "      <td>1114</td>\n",
       "      <td>0</td>\n",
       "    </tr>\n",
       "    <tr>\n",
       "      <th>1017208</th>\n",
       "      <td>2013-01-01</td>\n",
       "      <td>1115</td>\n",
       "      <td>0</td>\n",
       "    </tr>\n",
       "  </tbody>\n",
       "</table>\n",
       "<p>1017209 rows × 3 columns</p>\n",
       "</div>"
      ],
      "text/plain": [
       "              Date  Store  Sales\n",
       "0       2015-07-31      1   5263\n",
       "1       2015-07-31      2   6064\n",
       "2       2015-07-31      3   8314\n",
       "3       2015-07-31      4  13995\n",
       "4       2015-07-31      5   4822\n",
       "...            ...    ...    ...\n",
       "1017204 2013-01-01   1111      0\n",
       "1017205 2013-01-01   1112      0\n",
       "1017206 2013-01-01   1113      0\n",
       "1017207 2013-01-01   1114      0\n",
       "1017208 2013-01-01   1115      0\n",
       "\n",
       "[1017209 rows x 3 columns]"
      ]
     },
     "execution_count": 7,
     "metadata": {},
     "output_type": "execute_result"
    }
   ],
   "source": [
    "df[['Date', 'Store', 'Sales']]"
   ]
  },
  {
   "cell_type": "code",
   "execution_count": 8,
   "metadata": {},
   "outputs": [
    {
     "data": {
      "text/plain": [
       "StateHoliday  SchoolHoliday\n",
       "0             0                819949\n",
       "              1                166210\n",
       "a             0                 15055\n",
       "b             1                  6206\n",
       "a             1                  5205\n",
       "c             1                  4100\n",
       "b             0                   484\n",
       "dtype: int64"
      ]
     },
     "execution_count": 8,
     "metadata": {},
     "output_type": "execute_result"
    }
   ],
   "source": [
    "df[['StateHoliday', 'SchoolHoliday']].value_counts()"
   ]
  },
  {
   "attachments": {},
   "cell_type": "markdown",
   "metadata": {},
   "source": [
    "# Train basic forecaster"
   ]
  },
  {
   "cell_type": "code",
   "execution_count": 9,
   "metadata": {},
   "outputs": [
    {
     "data": {
      "text/plain": [
       "<Axes: xlabel='ds'>"
      ]
     },
     "execution_count": 9,
     "metadata": {},
     "output_type": "execute_result"
    },
    {
     "data": {
      "image/png": "[encoded data removed]",
      "text/plain": [
       "<Figure size 640x480 with 1 Axes>"
      ]
     },
     "metadata": {},
     "output_type": "display_data"
    }
   ],
   "source": [
    "df.rename(columns = {'Date': 'ds', 'Sales': 'y'}, inplace = True)\n",
    "df_store1 = df[\n",
    "    (df['Store'] == 4) &\\\n",
    "    (df['Open'] == 1)\n",
    "].reset_index(drop = True)\n",
    "df_store1 = df_store1.sort_values('ds', ascending = True)\n",
    "df_store1.plot(x = 'ds', y = 'y')"
   ]
  },
  {
   "cell_type": "code",
   "execution_count": 11,
   "metadata": {},
   "outputs": [
    {
     "data": {
      "text/plain": [
       "6"
      ]
     },
     "execution_count": 11,
     "metadata": {},
     "output_type": "execute_result"
    }
   ],
   "source": [
    "df_store1['DayOfWeek'].max()"
   ]
  },
  {
   "cell_type": "code",
   "execution_count": 12,
   "metadata": {},
   "outputs": [
    {
     "data": {
      "text/html": [
       "<div>\n",
       "<style scoped>\n",
       "    .dataframe tbody tr th:only-of-type {\n",
       "        vertical-align: middle;\n",
       "    }\n",
       "\n",
       "    .dataframe tbody tr th {\n",
       "        vertical-align: top;\n",
       "    }\n",
       "\n",
       "    .dataframe thead th {\n",
       "        text-align: right;\n",
       "    }\n",
       "</style>\n",
       "<table border=\"1\" class=\"dataframe\">\n",
       "  <thead>\n",
       "    <tr style=\"text-align: right;\">\n",
       "      <th></th>\n",
       "      <th>Store</th>\n",
       "      <th>DayOfWeek</th>\n",
       "      <th>ds</th>\n",
       "      <th>y</th>\n",
       "      <th>Customers</th>\n",
       "      <th>Open</th>\n",
       "      <th>Promo</th>\n",
       "      <th>StateHoliday</th>\n",
       "      <th>SchoolHoliday</th>\n",
       "    </tr>\n",
       "  </thead>\n",
       "  <tbody>\n",
       "    <tr>\n",
       "      <th>783</th>\n",
       "      <td>4</td>\n",
       "      <td>3</td>\n",
       "      <td>2013-01-02</td>\n",
       "      <td>9941</td>\n",
       "      <td>1429</td>\n",
       "      <td>1</td>\n",
       "      <td>0</td>\n",
       "      <td>0</td>\n",
       "      <td>1</td>\n",
       "    </tr>\n",
       "    <tr>\n",
       "      <th>782</th>\n",
       "      <td>4</td>\n",
       "      <td>4</td>\n",
       "      <td>2013-01-03</td>\n",
       "      <td>8247</td>\n",
       "      <td>1248</td>\n",
       "      <td>1</td>\n",
       "      <td>0</td>\n",
       "      <td>0</td>\n",
       "      <td>1</td>\n",
       "    </tr>\n",
       "    <tr>\n",
       "      <th>781</th>\n",
       "      <td>4</td>\n",
       "      <td>5</td>\n",
       "      <td>2013-01-04</td>\n",
       "      <td>8290</td>\n",
       "      <td>1232</td>\n",
       "      <td>1</td>\n",
       "      <td>0</td>\n",
       "      <td>0</td>\n",
       "      <td>1</td>\n",
       "    </tr>\n",
       "    <tr>\n",
       "      <th>780</th>\n",
       "      <td>4</td>\n",
       "      <td>6</td>\n",
       "      <td>2013-01-05</td>\n",
       "      <td>10338</td>\n",
       "      <td>1514</td>\n",
       "      <td>1</td>\n",
       "      <td>0</td>\n",
       "      <td>0</td>\n",
       "      <td>0</td>\n",
       "    </tr>\n",
       "    <tr>\n",
       "      <th>779</th>\n",
       "      <td>4</td>\n",
       "      <td>1</td>\n",
       "      <td>2013-01-07</td>\n",
       "      <td>12112</td>\n",
       "      <td>1562</td>\n",
       "      <td>1</td>\n",
       "      <td>1</td>\n",
       "      <td>0</td>\n",
       "      <td>0</td>\n",
       "    </tr>\n",
       "    <tr>\n",
       "      <th>...</th>\n",
       "      <td>...</td>\n",
       "      <td>...</td>\n",
       "      <td>...</td>\n",
       "      <td>...</td>\n",
       "      <td>...</td>\n",
       "      <td>...</td>\n",
       "      <td>...</td>\n",
       "      <td>...</td>\n",
       "      <td>...</td>\n",
       "    </tr>\n",
       "    <tr>\n",
       "      <th>4</th>\n",
       "      <td>4</td>\n",
       "      <td>1</td>\n",
       "      <td>2015-07-27</td>\n",
       "      <td>11812</td>\n",
       "      <td>1379</td>\n",
       "      <td>1</td>\n",
       "      <td>1</td>\n",
       "      <td>0</td>\n",
       "      <td>1</td>\n",
       "    </tr>\n",
       "    <tr>\n",
       "      <th>3</th>\n",
       "      <td>4</td>\n",
       "      <td>2</td>\n",
       "      <td>2015-07-28</td>\n",
       "      <td>10275</td>\n",
       "      <td>1191</td>\n",
       "      <td>1</td>\n",
       "      <td>1</td>\n",
       "      <td>0</td>\n",
       "      <td>1</td>\n",
       "    </tr>\n",
       "    <tr>\n",
       "      <th>2</th>\n",
       "      <td>4</td>\n",
       "      <td>3</td>\n",
       "      <td>2015-07-29</td>\n",
       "      <td>10514</td>\n",
       "      <td>1258</td>\n",
       "      <td>1</td>\n",
       "      <td>1</td>\n",
       "      <td>0</td>\n",
       "      <td>1</td>\n",
       "    </tr>\n",
       "    <tr>\n",
       "      <th>1</th>\n",
       "      <td>4</td>\n",
       "      <td>4</td>\n",
       "      <td>2015-07-30</td>\n",
       "      <td>10387</td>\n",
       "      <td>1276</td>\n",
       "      <td>1</td>\n",
       "      <td>1</td>\n",
       "      <td>0</td>\n",
       "      <td>1</td>\n",
       "    </tr>\n",
       "    <tr>\n",
       "      <th>0</th>\n",
       "      <td>4</td>\n",
       "      <td>5</td>\n",
       "      <td>2015-07-31</td>\n",
       "      <td>13995</td>\n",
       "      <td>1498</td>\n",
       "      <td>1</td>\n",
       "      <td>1</td>\n",
       "      <td>0</td>\n",
       "      <td>1</td>\n",
       "    </tr>\n",
       "  </tbody>\n",
       "</table>\n",
       "<p>784 rows × 9 columns</p>\n",
       "</div>"
      ],
      "text/plain": [
       "     Store  DayOfWeek         ds  ...  Promo  StateHoliday  SchoolHoliday\n",
       "783      4          3 2013-01-02  ...      0             0              1\n",
       "782      4          4 2013-01-03  ...      0             0              1\n",
       "781      4          5 2013-01-04  ...      0             0              1\n",
       "780      4          6 2013-01-05  ...      0             0              0\n",
       "779      4          1 2013-01-07  ...      1             0              0\n",
       "..     ...        ...        ...  ...    ...           ...            ...\n",
       "4        4          1 2015-07-27  ...      1             0              1\n",
       "3        4          2 2015-07-28  ...      1             0              1\n",
       "2        4          3 2015-07-29  ...      1             0              1\n",
       "1        4          4 2015-07-30  ...      1             0              1\n",
       "0        4          5 2015-07-31  ...      1             0              1\n",
       "\n",
       "[784 rows x 9 columns]"
      ]
     },
     "execution_count": 12,
     "metadata": {},
     "output_type": "execute_result"
    }
   ],
   "source": [
    "df_store1.sort_values('ds', ascending = True)"
   ]
  },
  {
   "cell_type": "code",
   "execution_count": 13,
   "metadata": {},
   "outputs": [],
   "source": [
    "seasonality = {\n",
    "    'yearly': True,\n",
    "    'weekly': True,\n",
    "    'daily': False\n",
    "}\n",
    "\n",
    "def train_predict(df, train_index, seasonality=seasonality):\n",
    "    # grab split data\n",
    "    df_train = df.copy().iloc[0:train_index]\n",
    "    df_test = df.copy().iloc[train_index:]\n",
    "    \n",
    "    #create Prophet model\n",
    "    model=Prophet(\n",
    "        yearly_seasonality=seasonality['yearly'],\n",
    "        weekly_seasonality=seasonality['weekly'],\n",
    "        daily_seasonality=seasonality['daily'],\n",
    "        interval_width = 0.95\n",
    "    )\n",
    "\n",
    "    # train and predict\n",
    "    model.fit(df_train)\n",
    "    predicted = model.predict(df_test)\n",
    "    return predicted, df_train, df_test"
   ]
  },
  {
   "cell_type": "code",
   "execution_count": 14,
   "metadata": {},
   "outputs": [
    {
     "name": "stderr",
     "output_type": "stream",
     "text": [
      "INFO:cmdstanpy:start chain 1\n",
      "INFO:cmdstanpy:finish chain 1\n",
      "WARNING:prophet.models:Optimization terminated abnormally. Falling back to Newton.\n",
      "INFO:cmdstanpy:start chain 1\n",
      "INFO:cmdstanpy:finish chain 1\n"
     ]
    },
    {
     "ename": "RuntimeError",
     "evalue": "Error during optimizing, error code 3221225785",
     "output_type": "error",
     "traceback": [
      "\u001b[1;31m---------------------------------------------------------------------------\u001b[0m",
      "\u001b[1;31mRuntimeError\u001b[0m                              Traceback (most recent call last)",
      "File \u001b[1;32mc:\\Users\\pedro\\OneDrive\\Documentos\\ml-engineer-with-python\\.venv\\lib\\site-packages\\prophet\\models.py:96\u001b[0m, in \u001b[0;36mCmdStanPyBackend.fit\u001b[1;34m(self, stan_init, stan_data, **kwargs)\u001b[0m\n\u001b[0;32m     95\u001b[0m \u001b[39mtry\u001b[39;00m:\n\u001b[1;32m---> 96\u001b[0m     \u001b[39mself\u001b[39m\u001b[39m.\u001b[39mstan_fit \u001b[39m=\u001b[39m \u001b[39mself\u001b[39m\u001b[39m.\u001b[39mmodel\u001b[39m.\u001b[39moptimize(\u001b[39m*\u001b[39m\u001b[39m*\u001b[39margs)\n\u001b[0;32m     97\u001b[0m \u001b[39mexcept\u001b[39;00m \u001b[39mRuntimeError\u001b[39;00m \u001b[39mas\u001b[39;00m e:\n\u001b[0;32m     98\u001b[0m     \u001b[39m# Fall back on Newton\u001b[39;00m\n",
      "File \u001b[1;32mc:\\Users\\pedro\\OneDrive\\Documentos\\ml-engineer-with-python\\.venv\\lib\\site-packages\\cmdstanpy\\model.py:396\u001b[0m, in \u001b[0;36mCmdStanModel.optimize\u001b[1;34m(self, data, seed, inits, output_dir, save_diagnostics, algorithm, init_alpha, iter)\u001b[0m\n\u001b[0;32m    393\u001b[0m         msg \u001b[39m=\u001b[39m \u001b[39m'\u001b[39m\u001b[39m{}\u001b[39;00m\u001b[39m, error code \u001b[39m\u001b[39m{}\u001b[39;00m\u001b[39m'\u001b[39m\u001b[39m.\u001b[39mformat(\n\u001b[0;32m    394\u001b[0m             msg, runset\u001b[39m.\u001b[39m_retcode(dummy_chain_id)\n\u001b[0;32m    395\u001b[0m         )\n\u001b[1;32m--> 396\u001b[0m         \u001b[39mraise\u001b[39;00m \u001b[39mRuntimeError\u001b[39;00m(msg)\n\u001b[0;32m    397\u001b[0m mle \u001b[39m=\u001b[39m CmdStanMLE(runset)\n",
      "\u001b[1;31mRuntimeError\u001b[0m: Error during optimizing, error code 3221225785",
      "\nDuring handling of the above exception, another exception occurred:\n",
      "\u001b[1;31mRuntimeError\u001b[0m                              Traceback (most recent call last)",
      "Cell \u001b[1;32mIn[14], line 2\u001b[0m\n\u001b[0;32m      1\u001b[0m train_index \u001b[39m=\u001b[39m \u001b[39mint\u001b[39m(\u001b[39m0.8\u001b[39m\u001b[39m*\u001b[39mdf_store1\u001b[39m.\u001b[39mshape[\u001b[39m0\u001b[39m])\n\u001b[1;32m----> 2\u001b[0m predicted, df_train, df_test \u001b[39m=\u001b[39m train_predict(\n\u001b[0;32m      3\u001b[0m     df \u001b[39m=\u001b[39;49m df_store1,\n\u001b[0;32m      4\u001b[0m     train_index \u001b[39m=\u001b[39;49m train_index,\n\u001b[0;32m      5\u001b[0m     seasonality\u001b[39m=\u001b[39;49mseasonality\n\u001b[0;32m      6\u001b[0m )\n",
      "Cell \u001b[1;32mIn[13], line 21\u001b[0m, in \u001b[0;36mtrain_predict\u001b[1;34m(df, train_index, seasonality)\u001b[0m\n\u001b[0;32m     13\u001b[0m model\u001b[39m=\u001b[39mProphet(\n\u001b[0;32m     14\u001b[0m     yearly_seasonality\u001b[39m=\u001b[39mseasonality[\u001b[39m'\u001b[39m\u001b[39myearly\u001b[39m\u001b[39m'\u001b[39m],\n\u001b[0;32m     15\u001b[0m     weekly_seasonality\u001b[39m=\u001b[39mseasonality[\u001b[39m'\u001b[39m\u001b[39mweekly\u001b[39m\u001b[39m'\u001b[39m],\n\u001b[0;32m     16\u001b[0m     daily_seasonality\u001b[39m=\u001b[39mseasonality[\u001b[39m'\u001b[39m\u001b[39mdaily\u001b[39m\u001b[39m'\u001b[39m],\n\u001b[0;32m     17\u001b[0m     interval_width \u001b[39m=\u001b[39m \u001b[39m0.95\u001b[39m\n\u001b[0;32m     18\u001b[0m )\n\u001b[0;32m     20\u001b[0m \u001b[39m# train and predict\u001b[39;00m\n\u001b[1;32m---> 21\u001b[0m model\u001b[39m.\u001b[39;49mfit(df_train)\n\u001b[0;32m     22\u001b[0m predicted \u001b[39m=\u001b[39m model\u001b[39m.\u001b[39mpredict(df_test)\n\u001b[0;32m     23\u001b[0m \u001b[39mreturn\u001b[39;00m predicted, df_train, df_test\n",
      "File \u001b[1;32mc:\\Users\\pedro\\OneDrive\\Documentos\\ml-engineer-with-python\\.venv\\lib\\site-packages\\prophet\\forecaster.py:1181\u001b[0m, in \u001b[0;36mProphet.fit\u001b[1;34m(self, df, **kwargs)\u001b[0m\n\u001b[0;32m   1179\u001b[0m     \u001b[39mself\u001b[39m\u001b[39m.\u001b[39mparams \u001b[39m=\u001b[39m \u001b[39mself\u001b[39m\u001b[39m.\u001b[39mstan_backend\u001b[39m.\u001b[39msampling(stan_init, dat, \u001b[39mself\u001b[39m\u001b[39m.\u001b[39mmcmc_samples, \u001b[39m*\u001b[39m\u001b[39m*\u001b[39mkwargs)\n\u001b[0;32m   1180\u001b[0m \u001b[39melse\u001b[39;00m:\n\u001b[1;32m-> 1181\u001b[0m     \u001b[39mself\u001b[39m\u001b[39m.\u001b[39mparams \u001b[39m=\u001b[39m \u001b[39mself\u001b[39m\u001b[39m.\u001b[39mstan_backend\u001b[39m.\u001b[39mfit(stan_init, dat, \u001b[39m*\u001b[39m\u001b[39m*\u001b[39mkwargs)\n\u001b[0;32m   1183\u001b[0m \u001b[39mself\u001b[39m\u001b[39m.\u001b[39mstan_fit \u001b[39m=\u001b[39m \u001b[39mself\u001b[39m\u001b[39m.\u001b[39mstan_backend\u001b[39m.\u001b[39mstan_fit\n\u001b[0;32m   1184\u001b[0m \u001b[39m# If no changepoints were requested, replace delta with 0s\u001b[39;00m\n",
      "File \u001b[1;32mc:\\Users\\pedro\\OneDrive\\Documentos\\ml-engineer-with-python\\.venv\\lib\\site-packages\\prophet\\models.py:103\u001b[0m, in \u001b[0;36mCmdStanPyBackend.fit\u001b[1;34m(self, stan_init, stan_data, **kwargs)\u001b[0m\n\u001b[0;32m    101\u001b[0m     logger\u001b[39m.\u001b[39mwarning(\u001b[39m'\u001b[39m\u001b[39mOptimization terminated abnormally. Falling back to Newton.\u001b[39m\u001b[39m'\u001b[39m)\n\u001b[0;32m    102\u001b[0m     args[\u001b[39m'\u001b[39m\u001b[39malgorithm\u001b[39m\u001b[39m'\u001b[39m] \u001b[39m=\u001b[39m \u001b[39m'\u001b[39m\u001b[39mNewton\u001b[39m\u001b[39m'\u001b[39m\n\u001b[1;32m--> 103\u001b[0m     \u001b[39mself\u001b[39m\u001b[39m.\u001b[39mstan_fit \u001b[39m=\u001b[39m \u001b[39mself\u001b[39m\u001b[39m.\u001b[39mmodel\u001b[39m.\u001b[39moptimize(\u001b[39m*\u001b[39m\u001b[39m*\u001b[39margs)\n\u001b[0;32m    104\u001b[0m params \u001b[39m=\u001b[39m \u001b[39mself\u001b[39m\u001b[39m.\u001b[39mstan_to_dict_numpy(\n\u001b[0;32m    105\u001b[0m     \u001b[39mself\u001b[39m\u001b[39m.\u001b[39mstan_fit\u001b[39m.\u001b[39mcolumn_names, \u001b[39mself\u001b[39m\u001b[39m.\u001b[39mstan_fit\u001b[39m.\u001b[39moptimized_params_np)\n\u001b[0;32m    106\u001b[0m \u001b[39mfor\u001b[39;00m par \u001b[39min\u001b[39;00m params:\n",
      "File \u001b[1;32mc:\\Users\\pedro\\OneDrive\\Documentos\\ml-engineer-with-python\\.venv\\lib\\site-packages\\cmdstanpy\\model.py:396\u001b[0m, in \u001b[0;36mCmdStanModel.optimize\u001b[1;34m(self, data, seed, inits, output_dir, save_diagnostics, algorithm, init_alpha, iter)\u001b[0m\n\u001b[0;32m    392\u001b[0m     \u001b[39mif\u001b[39;00m runset\u001b[39m.\u001b[39m_retcode(dummy_chain_id) \u001b[39m!=\u001b[39m \u001b[39m0\u001b[39m:\n\u001b[0;32m    393\u001b[0m         msg \u001b[39m=\u001b[39m \u001b[39m'\u001b[39m\u001b[39m{}\u001b[39;00m\u001b[39m, error code \u001b[39m\u001b[39m{}\u001b[39;00m\u001b[39m'\u001b[39m\u001b[39m.\u001b[39mformat(\n\u001b[0;32m    394\u001b[0m             msg, runset\u001b[39m.\u001b[39m_retcode(dummy_chain_id)\n\u001b[0;32m    395\u001b[0m         )\n\u001b[1;32m--> 396\u001b[0m         \u001b[39mraise\u001b[39;00m \u001b[39mRuntimeError\u001b[39;00m(msg)\n\u001b[0;32m    397\u001b[0m mle \u001b[39m=\u001b[39m CmdStanMLE(runset)\n\u001b[0;32m    398\u001b[0m mle\u001b[39m.\u001b[39m_set_mle_attrs(runset\u001b[39m.\u001b[39mcsv_files[\u001b[39m0\u001b[39m])\n",
      "\u001b[1;31mRuntimeError\u001b[0m: Error during optimizing, error code 3221225785"
     ]
    }
   ],
   "source": [
    "train_index = int(0.8*df_store1.shape[0])\n",
    "predicted, df_train, df_test = train_predict(\n",
    "    df = df_store1,\n",
    "    train_index = train_index,\n",
    "    seasonality=seasonality\n",
    ")"
   ]
  },
  {
   "cell_type": "code",
   "execution_count": null,
   "metadata": {},
   "outputs": [],
   "source": [
    "fig, ax = plt.subplots(figsize=(20,10))\n",
    "\n",
    "df_test.plot(x='ds', y='y', ax=ax, label='Truth', linewidth=1, markersize=5, color='tab:blue',alpha=0.9, marker='o')\n",
    "predicted.plot(x='ds', y='yhat', ax=ax, label='Prediction', linewidth=2, markersize=5, color='k')\n",
    "ax.fill_between(x=predicted['ds'], y1=predicted['yhat_upper'], y2=predicted['yhat_lower'], alpha=0.1, color='k')\n",
    "df_train.iloc[train_index-100:].plot(x='ds', y='y', ax=ax, color='tab:blue', label='_nolegend_', alpha=0.5, marker='o')\n",
    "\n",
    "ax.set_xlabel('Date')\n",
    "ax.set_ylabel('Sales')"
   ]
  },
  {
   "cell_type": "code",
   "execution_count": null,
   "metadata": {},
   "outputs": [],
   "source": [
    "train_index = int(0.8*df_store1.shape[0])\n",
    "# grab split data\n",
    "df_train = df_store1.copy().iloc[0:train_index]\n",
    "df_test = df_store1.copy().iloc[train_index:]\n",
    "\n",
    "#create Prophet model\n",
    "model=Prophet(\n",
    "    yearly_seasonality=seasonality['yearly'],\n",
    "    weekly_seasonality=seasonality['weekly'],\n",
    "    daily_seasonality=seasonality['daily']\n",
    ")\n",
    "\n",
    "# train and predict\n",
    "model.fit(df_train)\n",
    "predicted = model.predict(df_test)"
   ]
  },
  {
   "cell_type": "code",
   "execution_count": null,
   "metadata": {},
   "outputs": [],
   "source": [
    "df_store1.iloc[0:train_index]"
   ]
  }
 ],
 "metadata": {
  "kernelspec": {
   "display_name": ".venv",
   "language": "python",
   "name": "python3"
  },
  "language_info": {
   "codemirror_mode": {
    "name": "ipython",
    "version": 3
   },
   "file_extension": ".py",
   "mimetype": "text/x-python",
   "name": "python",
   "nbconvert_exporter": "python",
   "pygments_lexer": "ipython3",
   "version": "3.10.10"
  },
  "orig_nbformat": 4,
  "vscode": {
   "interpreter": {
    "hash": "aa50fce573bf96505baa1879b1df9fc760df40ab7c3be66edff8570ca6fd1295"
   }
  }
 },
 "nbformat": 4,
 "nbformat_minor": 2
}
